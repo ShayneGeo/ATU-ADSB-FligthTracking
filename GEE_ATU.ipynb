{
 "cells": [
  {
   "cell_type": "code",
   "execution_count": 5,
   "id": "1faaec4e-ca13-4e6a-96b3-5e857dcebb55",
   "metadata": {},
   "outputs": [
    {
     "data": {
      "text/html": [
       "<p>To authorize access needed by Earth Engine, open the following\n",
       "        URL in a web browser and follow the instructions:</p>\n",
       "        <p><a href=https://code.earthengine.google.com/client-auth?scopes=https%3A//www.googleapis.com/auth/earthengine%20https%3A//www.googleapis.com/auth/devstorage.full_control&request_id=AJgQ8RjSy9nBSLx9cYS4tS3VA0VXowKiOLV8LZJNJNM&tc=ZFYT-wXIFSeVYtL446Gh5TLmuYqCP5X1MuCcqommtTM&cc=UOExom2j4rEnr4pVfXys3AHAAe8BDkIr7vd3CZSNphY>https://code.earthengine.google.com/client-auth?scopes=https%3A//www.googleapis.com/auth/earthengine%20https%3A//www.googleapis.com/auth/devstorage.full_control&request_id=AJgQ8RjSy9nBSLx9cYS4tS3VA0VXowKiOLV8LZJNJNM&tc=ZFYT-wXIFSeVYtL446Gh5TLmuYqCP5X1MuCcqommtTM&cc=UOExom2j4rEnr4pVfXys3AHAAe8BDkIr7vd3CZSNphY</a></p>\n",
       "        <p>The authorization workflow will generate a code, which you should paste in the box below.</p>\n",
       "        "
      ],
      "text/plain": [
       "<IPython.core.display.HTML object>"
      ]
     },
     "metadata": {},
     "output_type": "display_data"
    },
    {
     "name": "stdin",
     "output_type": "stream",
     "text": [
      "Enter verification code:  4/1AVHEtk7o8dE5lbYYPAMlOi1hfV43H5W8TtVKXAkF98om4pJpWcpHBhW9MAg\n"
     ]
    },
    {
     "name": "stdout",
     "output_type": "stream",
     "text": [
      "\n",
      "Successfully saved authorization token.\n"
     ]
    }
   ],
   "source": [
    "import ee\n",
    "import geemap\n",
    "import ipyleaflet\n",
    "# Trigger the authentication flow.\n",
    "ee.Authenticate()\n",
    "# Initialize the library.\n",
    "ee.Initialize()\n",
    "\n",
    "#4/1AfgeXvvvRAVgRtEkPxe6wFAea9p1ONVtZ0cLFIMmDzjV2VwGrROmU5osvJQ"
   ]
  },
  {
   "cell_type": "code",
   "execution_count": 6,
   "id": "449226f1-0b02-4061-a6d8-05e3af717e0c",
   "metadata": {},
   "outputs": [],
   "source": [
    "#pip install geemap\n"
   ]
  },
  {
   "cell_type": "code",
   "execution_count": 1,
   "id": "0faadf0f-2462-47ff-a57d-15581d40eb21",
   "metadata": {},
   "outputs": [],
   "source": [
    "#pip install earthengine-api --upgrade"
   ]
  }
 ],
 "metadata": {
  "kernelspec": {
   "display_name": "Python 3 (ipykernel)",
   "language": "python",
   "name": "python3"
  },
  "language_info": {
   "codemirror_mode": {
    "name": "ipython",
    "version": 3
   },
   "file_extension": ".py",
   "mimetype": "text/x-python",
   "name": "python",
   "nbconvert_exporter": "python",
   "pygments_lexer": "ipython3",
   "version": "3.9.16"
  }
 },
 "nbformat": 4,
 "nbformat_minor": 5
}
